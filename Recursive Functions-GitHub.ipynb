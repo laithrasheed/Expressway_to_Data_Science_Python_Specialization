{
 "cells": [
  {
   "cell_type": "markdown",
   "id": "ba16f711",
   "metadata": {},
   "source": [
    "# I would like to show some Recursive Algorithms I have learnt!"
   ]
  },
  {
   "cell_type": "markdown",
   "id": "decaf94f",
   "metadata": {},
   "source": [
    " <span style=\"color:green\">Recursive Functions </span>in Python are functions that call themselves with modified input values in order to solve a problem. \n",
    " \n",
    " <span style=\"color:green\">Recursive Functions </span> typically have a **Base Case** that specifies when the function should stop calling itself, and a **Recursive Case** that specifies how the function should modify the input values and call itself again.\n",
    " \n",
    " <span style=\"color:green\">Recursive Functions </span> can be used to solve a wide variety of problems, including mathematical computations, searching, and sorting algorithms, and puzzles and games. However, recursive functions can be computationally expensive and can lead to stack overflow errors if the recursion depth becomes too large, so they should be used with care and tested thoroughly.\n",
    "\n"
   ]
  },
  {
   "cell_type": "markdown",
   "id": "9986894d",
   "metadata": {},
   "source": [
    "## Example1: Factorial"
   ]
  },
  {
   "cell_type": "code",
   "execution_count": 1,
   "id": "3d7dd422",
   "metadata": {},
   "outputs": [
    {
     "name": "stdout",
     "output_type": "stream",
     "text": [
      "1! =   1\n",
      "2! =   2\n",
      "3! =   6\n",
      "4! =   24\n",
      "5! =   120\n",
      "6! =   720\n"
     ]
    }
   ],
   "source": [
    "def fact(n):\n",
    "    if n == 0:   # Base case: 0! = 1\n",
    "        return 1\n",
    "    else:\n",
    "        return n * fact(n-1)  # Recursive case: n! = n * (n-1)!\n",
    "print('1! =  ', fact(1))\n",
    "print('2! =  ', fact(2))\n",
    "print('3! =  ', fact(3))\n",
    "print('4! =  ', fact(4))\n",
    "print('5! =  ', fact(5))\n",
    "print('6! =  ', fact(6))"
   ]
  },
  {
   "cell_type": "markdown",
   "id": "203ee353",
   "metadata": {},
   "source": [
    "This is a recursive function that calculates the factorial of a number n.\n",
    "\n",
    "The **base case** is when n is equal to 0, in which case the function returns 1.\n",
    "\n",
    "The **recursive case** is when n is greater than 0, in which case the function computes n times the factorial of n-1."
   ]
  },
  {
   "cell_type": "markdown",
   "id": "1c7c6364",
   "metadata": {},
   "source": [
    "## Example2: Fibonacci"
   ]
  },
  {
   "cell_type": "markdown",
   "id": "9243b904",
   "metadata": {},
   "source": [
    "fibonacci series: $fib(0) = 0$, $fib(1) = 1$, $fib(n) = fib(n-1) + fib(n-2)$"
   ]
  },
  {
   "cell_type": "code",
   "execution_count": 2,
   "id": "1e10687d",
   "metadata": {},
   "outputs": [
    {
     "name": "stdout",
     "output_type": "stream",
     "text": [
      "fibonacci of 0 :  0\n",
      "fibonacci of 1 :  1\n",
      "fibonacci of 2 :  1\n",
      "fibonacci of 3 :  2\n",
      "fibonacci of 4 :  3\n",
      "fibonacci of 5 :  5\n",
      "fibonacci of 6 :  8\n",
      "fibonacci of 7 :  13\n",
      "fibonacci of 8 :  21\n",
      "fibonacci of 9 :  34\n"
     ]
    }
   ],
   "source": [
    "def fib(n):\n",
    "    if n <= 1:   # Base case: fib(0) = 0, fib(1) = 1\n",
    "        return n\n",
    "    else:\n",
    "        return fib(n-1) + fib(n-2)  # Recursive case: fib(n) = fib(n-1) + fib(n-2)\n",
    "print('fibonacci of 0 : ', fib(0))\n",
    "print('fibonacci of 1 : ', fib(1))\n",
    "print('fibonacci of 2 : ', fib(2))\n",
    "print('fibonacci of 3 : ', fib(3))\n",
    "print('fibonacci of 4 : ', fib(4))\n",
    "print('fibonacci of 5 : ', fib(5))\n",
    "print('fibonacci of 6 : ', fib(6))\n",
    "print('fibonacci of 7 : ', fib(7))\n",
    "print('fibonacci of 8 : ', fib(8))\n",
    "print('fibonacci of 9 : ', fib(9))"
   ]
  },
  {
   "cell_type": "markdown",
   "id": "0f3c4be2",
   "metadata": {},
   "source": [
    "This is a **recursive function** that calculates the nth number in the Fibonacci sequence.\n",
    "\n",
    "The **base case** is when n is equal to 0 or 1, in which case the function returns n.\n",
    "\n",
    "The **recursive case** is when n is greater than 1, in which case the function computes the sum of the previous two numbers in the sequence by calling itself recursively with n-1 and n-2."
   ]
  },
  {
   "cell_type": "markdown",
   "id": "835b4f69",
   "metadata": {},
   "source": [
    "## Example3: Binary Search"
   ]
  },
  {
   "cell_type": "code",
   "execution_count": 3,
   "id": "0faf0ebb",
   "metadata": {},
   "outputs": [
    {
     "data": {
      "text/plain": [
       "True"
      ]
     },
     "execution_count": 3,
     "metadata": {},
     "output_type": "execute_result"
    }
   ],
   "source": [
    "def binary_search(lst, target):\n",
    "    if not lst:   # Base case: empty list, target not found\n",
    "        return False\n",
    "    else:\n",
    "        mid = len(lst) // 2 \n",
    "        # note: the thoery beyond the Binary Search, is that we start searching for matching from the\n",
    "        #       middle of the list.\n",
    "        if lst[mid] == target:   # Base case: target found\n",
    "            return True          # If we are intersted in Time Complexity, this would be the best case!\n",
    "        elif lst[mid] < target:   # Recursive case: target in right half of list\n",
    "            return binary_search(lst[mid+1:], target)\n",
    "        else:   # Recursive case: target in left half of list\n",
    "            return binary_search(lst[:mid], target)\n",
    "a = [1,2,3,4,5,6,7,8,9,10,11]\n",
    "binary_search(a, 5)"
   ]
  },
  {
   "cell_type": "markdown",
   "id": "93825869",
   "metadata": {},
   "source": [
    "This is a **recursive function** that performs a binary search on a sorted list (Descending order would be the worst case in terms of Time Complexity!) to find a target value.\n",
    "\n",
    "The **base case** is when the list is empty, in which case the function returns False because the target was not found. \n",
    "\n",
    "If the list is not empty, the function computes the <span style=\"color:green\">middle index </span> of the list and compares the value at that <span style=\"color:green\">index to the target</span> . \n",
    "\n",
    "If the value is equal to the target, the function returns True. If the value is less than the target, the function **calls itself recursively** with the right half of the list. If the value is greater than the target, the function **calls itself recursively** with the left half of the list. \n",
    "\n"
   ]
  }
 ],
 "metadata": {
  "kernelspec": {
   "display_name": "Python 3 (ipykernel)",
   "language": "python",
   "name": "python3"
  },
  "language_info": {
   "codemirror_mode": {
    "name": "ipython",
    "version": 3
   },
   "file_extension": ".py",
   "mimetype": "text/x-python",
   "name": "python",
   "nbconvert_exporter": "python",
   "pygments_lexer": "ipython3",
   "version": "3.9.16"
  }
 },
 "nbformat": 4,
 "nbformat_minor": 5
}
